{
 "cells": [
  {
   "cell_type": "code",
   "execution_count": 100,
   "metadata": {},
   "outputs": [],
   "source": [
    "import os\n",
    "\n",
    "from sklearn.metrics import (\n",
    "    accuracy_score,\n",
    "    recall_score,\n",
    "    roc_auc_score,\n",
    "    average_precision_score,\n",
    "    f1_score,\n",
    ")\n",
    "\n",
    "from sktime.benchmarking.data import UEADataset, make_datasets\n",
    "from sktime.benchmarking.evaluation import Evaluator\n",
    "from sktime.benchmarking.metrics import PairwiseMetric, AggregateMetric\n",
    "from sktime.benchmarking.orchestration import Orchestrator\n",
    "from sktime.benchmarking.results import HDDResults\n",
    "from sktime.benchmarking.strategies import TSCStrategy\n",
    "from sktime.benchmarking.tasks import TSCTask\n",
    "from sktime.classification.frequency_based import RandomIntervalSpectralForest\n",
    "from sktime.classification.interval_based import TimeSeriesForest\n",
    "from sktime.series_as_features.model_selection import PresplitFilesCV\n",
    "\n",
    "\n",
    "\n",
    "from sktime.classification.compose import (\n",
    "    ColumnEnsembleClassifier,\n",
    "    TimeSeriesForestClassifier,\n",
    ")\n",
    "\n",
    "from sktime.classification.dictionary_based import (\n",
    "    IndividualBOSS,\n",
    "    BOSSEnsemble,\n",
    "    ContractableBOSS,\n",
    "    TemporalDictionaryEnsemble,\n",
    "    IndividualTDE,\n",
    "    WEASEL,\n",
    "    MUSE,\n",
    ")\n",
    "\n",
    "from sktime.classification.shapelet_based import (\n",
    "    MrSEQLClassifier,\n",
    "    ShapeletTransformClassifier,\n",
    ")\n",
    "\n",
    "from sktime.classification.interval_based import TimeSeriesForest\n",
    "\n",
    "\n",
    "from sktime.classification.distance_based import (\n",
    "    ElasticEnsemble,\n",
    "    ProximityTree,\n",
    "    ProximityForest,\n",
    "    ProximityStump,\n",
    ")\n",
    "\n",
    "from sktime.classification.frequency_based import RandomIntervalSpectralForest\n",
    "\n",
    "from sktime.classification.distance_based import KNeighborsTimeSeriesClassifier"
   ]
  },
  {
   "cell_type": "code",
   "execution_count": 101,
   "metadata": {},
   "outputs": [],
   "source": [
    "import sktime\n",
    "\n",
    "#DATA_PATH = os.path.join(os.path.dirname(sktime.__file__), \"datasets/data\")\n",
    "DATA_PATH = os.path.join(os.path.dirname(\"C:\\\\Users\\\\rbabayev\\\\Desktop\\\\\"), \"Multivariate_ts\")\n",
    "RESULTS_PATH = \"results\""
   ]
  },
  {
   "cell_type": "code",
   "execution_count": 102,
   "metadata": {},
   "outputs": [],
   "source": [
    "# Create individual pointers to dataset on the disk\n",
    "datasets = [\n",
    "   UEADataset(path=DATA_PATH, name=\"AtrialFibrillation\"),\n",
    "#    UEADataset(path=DATA_PATH, name=\"EigenWorms\"),\n",
    "#     UEADataset(path=DATA_PATH, name=\"Epilepsy\"),\n",
    "#     UEADataset(path=DATA_PATH, name=\"FingerMovements\"),\n",
    "#     UEADataset(path=DATA_PATH, name=\"HandMovementDirection\"),\n",
    "#     UEADataset(path=DATA_PATH, name=\"Heartbeat\"),\n",
    "]"
   ]
  },
  {
   "cell_type": "code",
   "execution_count": 103,
   "metadata": {},
   "outputs": [],
   "source": [
    "tasks = [TSCTask(target=\"target\") for _ in range(len(datasets))]"
   ]
  },
  {
   "cell_type": "code",
   "execution_count": 104,
   "metadata": {},
   "outputs": [],
   "source": [
    "strategies = [\n",
    "#     TSCStrategy(ColumnEnsembleClassifier(\n",
    "#     estimators=[\n",
    "#         (\"TSF0\", TimeSeriesForestClassifier(n_estimators=100), [0]),\n",
    "#     ]\n",
    "# ), name=\"tsf\"),\n",
    "    \n",
    "#     #TSCStrategy(RandomIntervalSpectralForest(n_estimators=10), name=\"rise\"),\n",
    "    \n",
    "    TSCStrategy( MUSE(random_state=1), name=\"muse\"),\n",
    "    \n",
    "#     TSCStrategy(ColumnEnsembleClassifier(\n",
    "#     estimators=[\n",
    "#         (\"RandomIntervalSpectralForest0\", RandomIntervalSpectralForest(n_estimators=10), [0]),\n",
    "#     ]\n",
    "# ), name=\"rise\"),\n",
    "    \n",
    "#     TSCStrategy(ColumnEnsembleClassifier(\n",
    "#     estimators=[\n",
    "#         (\"BOSSEnsemble0\", BOSSEnsemble(max_ensemble_size=5), [0]),\n",
    "#     ]\n",
    "# ), name=\"boss\"),\n",
    "    \n",
    "#     TSCStrategy(\n",
    "#         ColumnEnsembleClassifier(\n",
    "#     estimators=[\n",
    "#         (\"TSF0\", TimeSeriesForestClassifier(n_estimators=100), [0]),\n",
    "#         (\"BOSSEnsemble1\", BOSSEnsemble(max_ensemble_size=5), [1]),\n",
    "#         #(\"BOSSEnsemble1\", BOSSEnsemble(random_state=47), [1]),\n",
    "#         (\"RandomIntervalSpectralForest2\", RandomIntervalSpectralForest(n_estimators=10), [2]),\n",
    "# #         (\"WEASEL3\", WEASEL(binning_strategy=\"equi-depth\", anova=False, random_state=47), [3]),\n",
    "# #         (\"TemporalDictionaryEnsemble4\", TemporalDictionaryEnsemble(n_parameter_samples=250,max_ensemble_size=50,\n",
    "# #                                                                    randomly_selected_params=50,random_state=47,), [4])\n",
    "# #         #(\"MUSE5\", MUSE(), [5]),\n",
    "#     ]\n",
    "# ), name=\"comb\"),\n",
    "]"
   ]
  },
  {
   "cell_type": "code",
   "execution_count": 105,
   "metadata": {},
   "outputs": [],
   "source": [
    "import shutil\n",
    "shutil.rmtree(RESULTS_PATH)\n",
    "\n",
    "results = HDDResults(path=RESULTS_PATH)"
   ]
  },
  {
   "cell_type": "code",
   "execution_count": 106,
   "metadata": {},
   "outputs": [],
   "source": [
    "orchestrator = Orchestrator(\n",
    "    datasets=datasets,\n",
    "    tasks=tasks,\n",
    "    strategies=strategies,\n",
    "    cv=PresplitFilesCV(),\n",
    "    results=results,\n",
    ")\n",
    "orchestrator.fit_predict(save_fitted_strategies=False, overwrite_predictions=True)"
   ]
  },
  {
   "cell_type": "code",
   "execution_count": 108,
   "metadata": {},
   "outputs": [
    {
     "ename": "TypeError",
     "evalue": "f1_score() missing 2 required positional arguments: 'y_true' and 'y_pred'",
     "output_type": "error",
     "traceback": [
      "\u001b[1;31m---------------------------------------------------------------------------\u001b[0m",
      "\u001b[1;31mTypeError\u001b[0m                                 Traceback (most recent call last)",
      "\u001b[1;32m<ipython-input-108-7f5fb062af05>\u001b[0m in \u001b[0;36m<module>\u001b[1;34m\u001b[0m\n\u001b[0;32m      1\u001b[0m \u001b[0mevaluator\u001b[0m \u001b[1;33m=\u001b[0m \u001b[0mEvaluator\u001b[0m\u001b[1;33m(\u001b[0m\u001b[0mresults\u001b[0m\u001b[1;33m)\u001b[0m\u001b[1;33m\u001b[0m\u001b[1;33m\u001b[0m\u001b[0m\n\u001b[1;32m----> 2\u001b[1;33m \u001b[0mmetric\u001b[0m \u001b[1;33m=\u001b[0m \u001b[0mPairwiseMetric\u001b[0m\u001b[1;33m(\u001b[0m\u001b[0mfunc\u001b[0m\u001b[1;33m=\u001b[0m\u001b[0mf1_score\u001b[0m\u001b[1;33m(\u001b[0m\u001b[0maverage\u001b[0m\u001b[1;33m=\u001b[0m\u001b[1;34m'macro'\u001b[0m\u001b[1;33m)\u001b[0m\u001b[1;33m,\u001b[0m \u001b[0mname\u001b[0m\u001b[1;33m=\u001b[0m\u001b[1;34m\"accuracy\"\u001b[0m\u001b[1;33m)\u001b[0m\u001b[1;33m\u001b[0m\u001b[1;33m\u001b[0m\u001b[0m\n\u001b[0m\u001b[0;32m      3\u001b[0m \u001b[0mmetrics_by_strategy\u001b[0m \u001b[1;33m=\u001b[0m \u001b[0mevaluator\u001b[0m\u001b[1;33m.\u001b[0m\u001b[0mevaluate\u001b[0m\u001b[1;33m(\u001b[0m\u001b[0mmetric\u001b[0m\u001b[1;33m=\u001b[0m\u001b[0mmetric\u001b[0m\u001b[1;33m)\u001b[0m\u001b[1;33m\u001b[0m\u001b[1;33m\u001b[0m\u001b[0m\n\u001b[0;32m      4\u001b[0m \u001b[0mmetrics_by_strategy\u001b[0m\u001b[1;33m.\u001b[0m\u001b[0mhead\u001b[0m\u001b[1;33m(\u001b[0m\u001b[1;33m)\u001b[0m\u001b[1;33m\u001b[0m\u001b[1;33m\u001b[0m\u001b[0m\n",
      "\u001b[1;32m~\\AppData\\Local\\Continuum\\anaconda3\\envs\\myenv\\lib\\site-packages\\sklearn\\utils\\validation.py\u001b[0m in \u001b[0;36minner_f\u001b[1;34m(*args, **kwargs)\u001b[0m\n\u001b[0;32m     70\u001b[0m                           FutureWarning)\n\u001b[0;32m     71\u001b[0m         \u001b[0mkwargs\u001b[0m\u001b[1;33m.\u001b[0m\u001b[0mupdate\u001b[0m\u001b[1;33m(\u001b[0m\u001b[1;33m{\u001b[0m\u001b[0mk\u001b[0m\u001b[1;33m:\u001b[0m \u001b[0marg\u001b[0m \u001b[1;32mfor\u001b[0m \u001b[0mk\u001b[0m\u001b[1;33m,\u001b[0m \u001b[0marg\u001b[0m \u001b[1;32min\u001b[0m \u001b[0mzip\u001b[0m\u001b[1;33m(\u001b[0m\u001b[0msig\u001b[0m\u001b[1;33m.\u001b[0m\u001b[0mparameters\u001b[0m\u001b[1;33m,\u001b[0m \u001b[0margs\u001b[0m\u001b[1;33m)\u001b[0m\u001b[1;33m}\u001b[0m\u001b[1;33m)\u001b[0m\u001b[1;33m\u001b[0m\u001b[1;33m\u001b[0m\u001b[0m\n\u001b[1;32m---> 72\u001b[1;33m         \u001b[1;32mreturn\u001b[0m \u001b[0mf\u001b[0m\u001b[1;33m(\u001b[0m\u001b[1;33m**\u001b[0m\u001b[0mkwargs\u001b[0m\u001b[1;33m)\u001b[0m\u001b[1;33m\u001b[0m\u001b[1;33m\u001b[0m\u001b[0m\n\u001b[0m\u001b[0;32m     73\u001b[0m     \u001b[1;32mreturn\u001b[0m \u001b[0minner_f\u001b[0m\u001b[1;33m\u001b[0m\u001b[1;33m\u001b[0m\u001b[0m\n\u001b[0;32m     74\u001b[0m \u001b[1;33m\u001b[0m\u001b[0m\n",
      "\u001b[1;31mTypeError\u001b[0m: f1_score() missing 2 required positional arguments: 'y_true' and 'y_pred'"
     ]
    }
   ],
   "source": [
    "evaluator = Evaluator(results)\n",
    "metric = PairwiseMetric(func=f1_score(average='macro'), name=\"accuracy\")\n",
    "metrics_by_strategy = evaluator.evaluate(metric=metric)\n",
    "metrics_by_strategy.head()"
   ]
  },
  {
   "cell_type": "raw",
   "metadata": {},
   "source": []
  },
  {
   "cell_type": "code",
   "execution_count": null,
   "metadata": {},
   "outputs": [],
   "source": [
    "evaluator = Evaluator(results)\n",
    "metric = AggregateMetric(func=roc_auc_score, name=\"auroc\") #name=\"accuracy\")\n",
    "metrics_by_strategy = evaluator.evaluate(metric=metric)\n",
    "metrics_by_strategy.head()"
   ]
  },
  {
   "cell_type": "code",
   "execution_count": null,
   "metadata": {},
   "outputs": [],
   "source": [
    "evaluator.rank()"
   ]
  },
  {
   "cell_type": "code",
   "execution_count": null,
   "metadata": {},
   "outputs": [],
   "source": [
    "# evaluator.plot_boxplots()\n",
    "# evaluator.ranks()\n",
    "# evaluator.t_test()\n",
    "# evaluator.sign_test()\n",
    "# evaluator.ranksum_test()\n",
    "# evaluator.t_test_with_bonferroni_correction()\n",
    "# evaluator.wilcoxon_test()\n",
    "# evaluator.friedman_test()\n",
    "# evaluator.nemenyi()\n",
    "\n",
    "\n",
    "evaluator.plot_boxplots()"
   ]
  },
  {
   "cell_type": "code",
   "execution_count": null,
   "metadata": {},
   "outputs": [],
   "source": []
  }
 ],
 "metadata": {
  "kernelspec": {
   "display_name": "Python 3",
   "language": "python",
   "name": "python3"
  },
  "language_info": {
   "codemirror_mode": {
    "name": "ipython",
    "version": 3
   },
   "file_extension": ".py",
   "mimetype": "text/x-python",
   "name": "python",
   "nbconvert_exporter": "python",
   "pygments_lexer": "ipython3",
   "version": "3.8.5"
  }
 },
 "nbformat": 4,
 "nbformat_minor": 4
}
