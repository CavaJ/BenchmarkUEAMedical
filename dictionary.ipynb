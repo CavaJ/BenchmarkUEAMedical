{
 "cells": [
  {
   "cell_type": "code",
   "execution_count": 5,
   "metadata": {},
   "outputs": [],
   "source": [
    "# Dictionary based time series classification in sktime\n",
    "# Dictionary based approaches adapt the bag of words model commonly used in signal processing, \n",
    "# computer vision and audio processing for time series classification. \n",
    "# Dictionary based classifiers have the same broad structure. \n",
    "# A sliding window of length $w$ is run across a series. \n",
    "# For each window, the real valued series of length $w$ is converted through approximation \n",
    "# and discretisation processes into a symbolic string of length $l$, which consists of $\\alpha$ possible letters. \n",
    "# The occurrence in a series of each 'word' from the dictionary defined by $l$ and $\\alpha$ is counted, and \n",
    "# once the sliding window has completed the series is transformed into a histogram. \n",
    "# Classification is based on the histograms of the words extracted from the series, rather than the raw data.\n",
    "\n",
    "\n",
    "# Currently 4 univeriate dictionary based classifiers are implemented in sktime, \n",
    "# all making use of the Symbolic Fourier Approximation (SFA)[1] transform to discretise into words. \n",
    "# These are the Bag of SFA Symbols (BOSS)[2], the Contractable Bag of SFA Symbols (cBOSS)[3], \n",
    "# Word Extraction for Time Series Classification (WEASEL)[4] and the Temporal Dictionary Ensemble (TDE)[5]. \n",
    "# WEASEL has a multivariate extension called MUSE[7].\n",
    "\n",
    "\n",
    "\n",
    "from sklearn import metrics\n",
    "\n",
    "from sktime.classification.dictionary_based import (\n",
    "    MUSE,\n",
    "    WEASEL,\n",
    "    BOSSEnsemble,\n",
    "    ContractableBOSS,\n",
    "    TemporalDictionaryEnsemble,\n",
    ")\n",
    "from sktime.datasets import load_italy_power_demand\n",
    "from sktime.datasets.base import load_japanese_vowels"
   ]
  },
  {
   "cell_type": "code",
   "execution_count": 6,
   "metadata": {},
   "outputs": [
    {
     "name": "stdout",
     "output_type": "stream",
     "text": [
      "(67, 1) (67,) (50, 1) (50,)\n",
      "(50, 12) (50,) (50, 12) (50,)\n"
     ]
    }
   ],
   "source": [
    "X_train, y_train = load_italy_power_demand(split=\"train\", return_X_y=True)\n",
    "X_test, y_test = load_italy_power_demand(split=\"test\", return_X_y=True)\n",
    "X_test = X_test[:50]\n",
    "y_test = y_test[:50]\n",
    "\n",
    "print(X_train.shape, y_train.shape, X_test.shape, y_test.shape)\n",
    "\n",
    "X_train_mv, y_train_mv = load_japanese_vowels(split=\"train\", return_X_y=True)\n",
    "X_test_mv, y_test_mv = load_japanese_vowels(split=\"test\", return_X_y=True)\n",
    "\n",
    "X_train_mv = X_train_mv[:50]\n",
    "y_train_mv = y_train_mv[:50]\n",
    "X_test_mv = X_test_mv[:50]\n",
    "y_test_mv = y_test_mv[:50]\n",
    "\n",
    "print(X_train_mv.shape, y_train_mv.shape, X_test_mv.shape, y_test_mv.shape)"
   ]
  },
  {
   "cell_type": "code",
   "execution_count": 7,
   "metadata": {},
   "outputs": [
    {
     "name": "stdout",
     "output_type": "stream",
     "text": [
      "BOSS Accuracy: 0.9\n"
     ]
    }
   ],
   "source": [
    "# Bag of SFA Symbols (BOSS)\n",
    "\n",
    "\n",
    "# BOSS is an ensemble of individual BOSS classifiers making use of the SFA transform. \n",
    "# The classifier performs grid-search through a large number of individual \n",
    "# classifiers for parameters $l$, $\\alpha$, $w$ and $p$ (normalise each window). \n",
    "# Of the classifiers searched only those within 92\\% accuracy of the best classifier are retained. \n",
    "# Individual BOSS classifiers use a non-symmetric distance function, \n",
    "# BOSS distance, in conjunction with a nearest neighbour classifier.\n",
    "# As tuning is handled inside the classifier, BOSS has very little parameters to be altered and \n",
    "# generally should be run using default settings.\n",
    "\n",
    "\n",
    "\n",
    "boss = BOSSEnsemble(random_state=47)\n",
    "boss.fit(X_train, y_train)\n",
    "\n",
    "boss_preds = boss.predict(X_test)\n",
    "print(\"BOSS Accuracy: \" + str(metrics.accuracy_score(y_test, boss_preds)))"
   ]
  },
  {
   "cell_type": "code",
   "execution_count": 8,
   "metadata": {},
   "outputs": [
    {
     "name": "stdout",
     "output_type": "stream",
     "text": [
      "cBOSS Accuracy: 0.9\n"
     ]
    }
   ],
   "source": [
    "# Contractable BOSS (cBOSS)\n",
    "\n",
    "\n",
    "# cBOSS significantly speeds up BOSS with no significant difference in accuracy by improving how the ensemble is formed. cBOSS utilises a filtered random selection of parameters to find its ensemble members. \n",
    "# Each ensemble member is built on a 70% subsample of the train data, using random sampling without replacement. \n",
    "# An exponential weighting scheme for the predictions of the base classifiers is introduced.\n",
    "# A new parameter for the number of parameters samples $k$ is introduced. \n",
    "# of which the top $s$ (max ensemble size) with the highest accuracy are kept for the final ensemble. \n",
    "# The $k$ parameter is replaceable with a time limit $t$ through contracting.\n",
    "\n",
    "\n",
    "\n",
    "# Recommended non-contract cBOSS parameters\n",
    "cboss = ContractableBOSS(n_parameter_samples=250, max_ensemble_size=50, random_state=47)\n",
    "\n",
    "# cBOSS with a 5 minute build time contract\n",
    "# cboss = ContractableBOSS(time_limit=5,\n",
    "#                         max_ensemble_size=50,\n",
    "#                         random_state=47)\n",
    "\n",
    "cboss.fit(X_train, y_train)\n",
    "\n",
    "cboss_preds = cboss.predict(X_test)\n",
    "print(\"cBOSS Accuracy: \" + str(metrics.accuracy_score(y_test, cboss_preds)))"
   ]
  },
  {
   "cell_type": "code",
   "execution_count": 9,
   "metadata": {},
   "outputs": [
    {
     "name": "stdout",
     "output_type": "stream",
     "text": [
      "WEASEL Accuracy: 0.98\n"
     ]
    }
   ],
   "source": [
    "# Word Extraction for Time Series Classification (WEASEL)\n",
    "\n",
    "\n",
    "# WEASEL transforms time series into feature vectors, using a sliding-window approach, \n",
    "# which are then analyzed through a machine learning classifier. \n",
    "# The novelty of WEASEL lies in its specific method for deriving features, \n",
    "# resulting in a much smaller yet much more discriminative feature set than BOSS. \n",
    "# It extends SFA by bigrams, feature selection using Anova-f-test and Information Gain Binning (IGB).\n",
    "\n",
    "\n",
    "\n",
    "weasel = WEASEL(binning_strategy=\"equi-depth\", anova=False, random_state=47)\n",
    "weasel.fit(X_train, y_train)\n",
    "\n",
    "weasel_preds = weasel.predict(X_test)\n",
    "print(\"WEASEL Accuracy: \" + str(metrics.accuracy_score(y_test, weasel_preds)))"
   ]
  },
  {
   "cell_type": "code",
   "execution_count": 10,
   "metadata": {},
   "outputs": [
    {
     "name": "stdout",
     "output_type": "stream",
     "text": [
      "TDE Accuracy: 1.0\n"
     ]
    }
   ],
   "source": [
    "# Temporal Dictionary Ensemble (TDE)\n",
    "\n",
    "\n",
    "# TDE aggregates the best components of 3 classifiers extending from the original BOSS algorithm. \n",
    "# The ensemble structure and improvements of cBOSS[3] are used; \n",
    "# Spatial pyramids are introduced from Spatial BOSS (S-BOSS)[6]; \n",
    "# From Word Extraction for Time Series Classification (WEASEL)[4] bigrams and Information Gain Binning (IGB), \n",
    "# a replacement for the multiple coefficient binning (MCB) used by SFA, are included. \n",
    "# Two new parameters are included in the ensemble parameter search, \n",
    "# the number of spatial pyramid levels $h$ and whether to use IGB or MCB $b$. \n",
    "# A Gaussian processes regressor is used to select new parameter sets to evaluate for the ensemble, \n",
    "# predicting the accuracy of a set of parameter values using past classifier performances.\n",
    "\n",
    "# Inheriting the cBOSS ensemble structure, the number of parameter samples $k$, time limit $t$ and \n",
    "# max ensemble size $s$ remain as parameters to be set accounting for memory and time requirements.\n",
    "\n",
    "\n",
    "\n",
    "# Recommended non-contract TDE parameters\n",
    "tde = TemporalDictionaryEnsemble(\n",
    "    n_parameter_samples=250,\n",
    "    max_ensemble_size=50,\n",
    "    randomly_selected_params=50,\n",
    "    random_state=47,\n",
    ")\n",
    "\n",
    "# TDE with a 5 minute build time contract\n",
    "# tde = TemporalDictionaryEnsemble(time_limit=5,\n",
    "#                                 max_ensemble_size=50,\n",
    "#                                 randomly_selected_params=50,\n",
    "#                                 random_state=47)\n",
    "\n",
    "tde.fit(X_train, y_train)\n",
    "\n",
    "tde_preds = tde.predict(X_test)\n",
    "print(\"TDE Accuracy: \" + str(metrics.accuracy_score(y_test, tde_preds)))"
   ]
  },
  {
   "cell_type": "code",
   "execution_count": 11,
   "metadata": {},
   "outputs": [
    {
     "name": "stdout",
     "output_type": "stream",
     "text": [
      "MUSE Accuracy: 1.0\n"
     ]
    }
   ],
   "source": [
    "# WEASEL+MUSE (Multivariate Symbolic Extension)\n",
    "\n",
    "# WEASEL+MUSE is the multivariate extension of WEASEL.\n",
    "\n",
    "\n",
    "\n",
    "muse = MUSE()\n",
    "muse.fit(X_train_mv, y_train_mv)\n",
    "\n",
    "muse_preds = muse.predict(X_test_mv)\n",
    "print(\"MUSE Accuracy: \" + str(metrics.accuracy_score(y_test_mv, muse_preds)))"
   ]
  },
  {
   "cell_type": "code",
   "execution_count": null,
   "metadata": {},
   "outputs": [],
   "source": []
  }
 ],
 "metadata": {
  "kernelspec": {
   "display_name": "Python 3",
   "language": "python",
   "name": "python3"
  },
  "language_info": {
   "codemirror_mode": {
    "name": "ipython",
    "version": 3
   },
   "file_extension": ".py",
   "mimetype": "text/x-python",
   "name": "python",
   "nbconvert_exporter": "python",
   "pygments_lexer": "ipython3",
   "version": "3.8.5"
  }
 },
 "nbformat": 4,
 "nbformat_minor": 4
}
